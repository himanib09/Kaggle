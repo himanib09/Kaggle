{
 "cells": [
  {
   "cell_type": "code",
   "execution_count": 105,
   "metadata": {},
   "outputs": [
    {
     "data": {
      "text/html": [
       "<script>requirejs.config({paths: { 'plotly': ['https://cdn.plot.ly/plotly-latest.min']},});if(!window.Plotly) {{require(['plotly'],function(plotly) {window.Plotly=plotly;});}}</script>"
      ],
      "text/vnd.plotly.v1+html": [
       "<script>requirejs.config({paths: { 'plotly': ['https://cdn.plot.ly/plotly-latest.min']},});if(!window.Plotly) {{require(['plotly'],function(plotly) {window.Plotly=plotly;});}}</script>"
      ]
     },
     "metadata": {},
     "output_type": "display_data"
    }
   ],
   "source": [
    "import os, gc, warnings\n",
    "warnings.filterwarnings(\"ignore\")\n",
    "\n",
    "import numpy as np\n",
    "import pandas as pd\n",
    "import datetime as dt\n",
    "\n",
    "import matplotlib.pyplot as plt\n",
    "import matplotlib\n",
    "#matplotlib.rc['font.size'] = 9.0\n",
    "matplotlib.rc('font', size=20)\n",
    "matplotlib.rc('axes', titlesize=20)\n",
    "matplotlib.rc('axes', labelsize=20)\n",
    "matplotlib.rc('xtick', labelsize=20)\n",
    "matplotlib.rc('ytick', labelsize=20)\n",
    "matplotlib.rc('legend', fontsize=20)\n",
    "matplotlib.rc('figure', titlesize=20)\n",
    "import seaborn as sns\n",
    "from plotly.offline import init_notebook_mode, plot, iplot\n",
    "import plotly.graph_objs as go\n",
    "import plotly.plotly as py\n",
    "import plotly.figure_factory as ff\n",
    "init_notebook_mode(connected=True)\n",
    "from IPython.display import display\n",
    "from IPython.core.display import HTML\n",
    "%matplotlib inline"
   ]
  },
  {
   "cell_type": "code",
   "execution_count": 136,
   "metadata": {},
   "outputs": [],
   "source": [
    "city = pd.read_csv(\"data/CityLocations.csv\")\n",
    "df = pd.read_csv(\"data/fatal-police-shootings-data.csv\")"
   ]
  },
  {
   "cell_type": "code",
   "execution_count": 137,
   "metadata": {
    "scrolled": false
   },
   "outputs": [
    {
     "data": {
      "text/html": [
       "<div>\n",
       "<style scoped>\n",
       "    .dataframe tbody tr th:only-of-type {\n",
       "        vertical-align: middle;\n",
       "    }\n",
       "\n",
       "    .dataframe tbody tr th {\n",
       "        vertical-align: top;\n",
       "    }\n",
       "\n",
       "    .dataframe thead th {\n",
       "        text-align: right;\n",
       "    }\n",
       "</style>\n",
       "<table border=\"1\" class=\"dataframe\">\n",
       "  <thead>\n",
       "    <tr style=\"text-align: right;\">\n",
       "      <th></th>\n",
       "      <th>id</th>\n",
       "      <th>name</th>\n",
       "      <th>date</th>\n",
       "      <th>manner_of_death</th>\n",
       "      <th>armed</th>\n",
       "      <th>age</th>\n",
       "      <th>gender</th>\n",
       "      <th>race</th>\n",
       "      <th>city</th>\n",
       "      <th>state</th>\n",
       "      <th>signs_of_mental_illness</th>\n",
       "      <th>threat_level</th>\n",
       "      <th>flee</th>\n",
       "      <th>body_camera</th>\n",
       "    </tr>\n",
       "  </thead>\n",
       "  <tbody>\n",
       "    <tr>\n",
       "      <th>2448</th>\n",
       "      <td>2721</td>\n",
       "      <td>TK TK</td>\n",
       "      <td>2017-06-30</td>\n",
       "      <td>shot</td>\n",
       "      <td>gun</td>\n",
       "      <td>NaN</td>\n",
       "      <td>F</td>\n",
       "      <td>NaN</td>\n",
       "      <td>Denver</td>\n",
       "      <td>CO</td>\n",
       "      <td>False</td>\n",
       "      <td>attack</td>\n",
       "      <td>Car</td>\n",
       "      <td>False</td>\n",
       "    </tr>\n",
       "    <tr>\n",
       "      <th>2174</th>\n",
       "      <td>2416</td>\n",
       "      <td>Luke O. Stewart</td>\n",
       "      <td>2017-03-13</td>\n",
       "      <td>shot</td>\n",
       "      <td>vehicle</td>\n",
       "      <td>23.0</td>\n",
       "      <td>M</td>\n",
       "      <td>B</td>\n",
       "      <td>Euclid</td>\n",
       "      <td>OH</td>\n",
       "      <td>False</td>\n",
       "      <td>other</td>\n",
       "      <td>NaN</td>\n",
       "      <td>True</td>\n",
       "    </tr>\n",
       "    <tr>\n",
       "      <th>2049</th>\n",
       "      <td>2278</td>\n",
       "      <td>TK TK</td>\n",
       "      <td>2017-01-31</td>\n",
       "      <td>shot and Tasered</td>\n",
       "      <td>knife</td>\n",
       "      <td>NaN</td>\n",
       "      <td>M</td>\n",
       "      <td>B</td>\n",
       "      <td>Hollywood</td>\n",
       "      <td>CA</td>\n",
       "      <td>True</td>\n",
       "      <td>attack</td>\n",
       "      <td>Not fleeing</td>\n",
       "      <td>False</td>\n",
       "    </tr>\n",
       "    <tr>\n",
       "      <th>53</th>\n",
       "      <td>101</td>\n",
       "      <td>Demaris Turner</td>\n",
       "      <td>2015-01-23</td>\n",
       "      <td>shot</td>\n",
       "      <td>vehicle</td>\n",
       "      <td>29.0</td>\n",
       "      <td>M</td>\n",
       "      <td>B</td>\n",
       "      <td>Fort Lauderdale</td>\n",
       "      <td>FL</td>\n",
       "      <td>False</td>\n",
       "      <td>other</td>\n",
       "      <td>Not fleeing</td>\n",
       "      <td>False</td>\n",
       "    </tr>\n",
       "    <tr>\n",
       "      <th>623</th>\n",
       "      <td>753</td>\n",
       "      <td>Jason Hale</td>\n",
       "      <td>2015-08-19</td>\n",
       "      <td>shot</td>\n",
       "      <td>gun</td>\n",
       "      <td>29.0</td>\n",
       "      <td>M</td>\n",
       "      <td>W</td>\n",
       "      <td>Hunters</td>\n",
       "      <td>WA</td>\n",
       "      <td>True</td>\n",
       "      <td>attack</td>\n",
       "      <td>Foot</td>\n",
       "      <td>False</td>\n",
       "    </tr>\n",
       "  </tbody>\n",
       "</table>\n",
       "</div>"
      ],
      "text/plain": [
       "        id             name        date   manner_of_death    armed   age  \\\n",
       "2448  2721            TK TK  2017-06-30              shot      gun   NaN   \n",
       "2174  2416  Luke O. Stewart  2017-03-13              shot  vehicle  23.0   \n",
       "2049  2278            TK TK  2017-01-31  shot and Tasered    knife   NaN   \n",
       "53     101   Demaris Turner  2015-01-23              shot  vehicle  29.0   \n",
       "623    753       Jason Hale  2015-08-19              shot      gun  29.0   \n",
       "\n",
       "     gender race             city state  signs_of_mental_illness threat_level  \\\n",
       "2448      F  NaN           Denver    CO                    False       attack   \n",
       "2174      M    B           Euclid    OH                    False        other   \n",
       "2049      M    B        Hollywood    CA                     True       attack   \n",
       "53        M    B  Fort Lauderdale    FL                    False        other   \n",
       "623       M    W          Hunters    WA                     True       attack   \n",
       "\n",
       "             flee  body_camera  \n",
       "2448          Car        False  \n",
       "2174          NaN         True  \n",
       "2049  Not fleeing        False  \n",
       "53    Not fleeing        False  \n",
       "623          Foot        False  "
      ]
     },
     "execution_count": 137,
     "metadata": {},
     "output_type": "execute_result"
    }
   ],
   "source": [
    "df.sample(5)"
   ]
  },
  {
   "cell_type": "code",
   "execution_count": null,
   "metadata": {},
   "outputs": [],
   "source": [
    "state_code_to_name = {\n",
    "    'AK': 'Alaska',\n",
    "    'AL': 'Alabama',\n",
    "    'AR': 'Arkansas',\n",
    "    'AZ': 'Arizona',\n",
    "    'CA': 'California',\n",
    "    'CO': 'Colorado',\n",
    "    'CT': 'Connecticut',\n",
    "    'DC': 'District of Columbia',\n",
    "    'DE': 'Delaware',\n",
    "    'FL': 'Florida',\n",
    "    'GA': 'Georgia',\n",
    "    'HI': 'Hawaii',\n",
    "    'IA': 'Iowa',\n",
    "    'ID': 'Idaho',\n",
    "    'IL': 'Illinois',\n",
    "    'IN': 'Indiana',\n",
    "    'KS': 'Kansas',\n",
    "    'KY': 'Kentucky',\n",
    "    'LA': 'Louisiana',\n",
    "    'MA': 'Massachusetts',\n",
    "    'MD': 'Maryland',\n",
    "    'ME': 'Maine',\n",
    "    'MI': 'Michigan',\n",
    "    'MN': 'Minnesota',\n",
    "    'MO': 'Missouri',\n",
    "    'MS': 'Mississippi',\n",
    "    'MT': 'Montana',\n",
    "    'NC': 'North Carolina',\n",
    "    'ND': 'North Dakota',\n",
    "    'NE': 'Nebraska',\n",
    "    'NH': 'New Hampshire',\n",
    "    'NJ': 'New Jersey',\n",
    "    'NM': 'New Mexico',\n",
    "    'NV': 'Nevada',\n",
    "    'NY': 'New York',\n",
    "    'OH': 'Ohio',\n",
    "    'OK': 'Oklahoma',\n",
    "    'OR': 'Oregon',\n",
    "    'PA': 'Pennsylvania',\n",
    "    'PR': 'Puerto Rico',\n",
    "    'RI': 'Rhode Island',\n",
    "    'SC': 'South Carolina',\n",
    "    'SD': 'South Dakota',\n",
    "    'TN': 'Tennessee',\n",
    "    'TX': 'Texas',\n",
    "    'UT': 'Utah',\n",
    "    'VA': 'Virginia',\n",
    "    'VT': 'Vermont',\n",
    "    'WA': 'Washington',\n",
    "    'WI': 'Wisconsin',\n",
    "    'WV': 'West Virginia',\n",
    "    'WY': 'Wyoming'\n",
    "}"
   ]
  },
  {
   "cell_type": "code",
   "execution_count": 140,
   "metadata": {},
   "outputs": [],
   "source": [
    "df['date'] = pd.to_datetime(df['date'])\n",
    "df['Year'] = df.date.dt.year\n",
    "df['Date'] = df.date.dt.day\n",
    "df['Month'] = df.date.dt.month\n",
    "df['state_name'] = df['state'].map(lambda x: state_code_to_name[x])"
   ]
  },
  {
   "cell_type": "code",
   "execution_count": 141,
   "metadata": {},
   "outputs": [
    {
     "data": {
      "application/vnd.plotly.v1+json": {
       "data": [
        {
         "autocolorscale": true,
         "colorbar": {
          "title": "Count"
         },
         "locationmode": "USA-states",
         "locations": [
          "CA",
          "TX",
          "FL",
          "AZ",
          "CO",
          "GA",
          "OH",
          "OK",
          "NC",
          "MO",
          "WA",
          "IL",
          "TN",
          "PA",
          "LA",
          "AL",
          "NM",
          "VA",
          "KY",
          "IN",
          "WI",
          "NY",
          "NV",
          "MI",
          "SC",
          "OR",
          "NJ",
          "MD",
          "AR",
          "MS",
          "MN",
          "WV",
          "KS",
          "UT",
          "ID",
          "MA",
          "AK",
          "IA",
          "MT",
          "NE",
          "ME",
          "CT",
          "SD",
          "HI",
          "DC",
          "WY",
          "DE",
          "NH",
          "ND",
          "VT",
          "RI"
         ],
         "marker": {
          "line": {
           "color": "rgb(255,255,255)",
           "width": 2
          }
         },
         "type": "choropleth",
         "z": [
          545,
          306,
          209,
          170,
          115,
          111,
          107,
          104,
          92,
          90,
          86,
          79,
          78,
          76,
          75,
          73,
          70,
          67,
          64,
          62,
          59,
          59,
          57,
          56,
          52,
          51,
          45,
          44,
          41,
          40,
          39,
          37,
          34,
          33,
          29,
          25,
          23,
          19,
          19,
          15,
          15,
          12,
          12,
          12,
          12,
          11,
          10,
          8,
          7,
          6,
          3
         ]
        }
       ],
       "layout": {
        "geo": {
         "lakecolor": "rgb(255, 255, 255)",
         "projection": {
          "type": "albers usa"
         },
         "scope": "usa",
         "showlakes": true
        },
        "title": "Fatal Police Shootings in the United States since 2015<br>(Hover for Count)"
       }
      },
      "text/html": [
       "<div id=\"f3182206-cb66-4dd6-93d2-d7b4cb95eab6\" style=\"height: 525px; width: 100%;\" class=\"plotly-graph-div\"></div><script type=\"text/javascript\">require([\"plotly\"], function(Plotly) { window.PLOTLYENV=window.PLOTLYENV || {};window.PLOTLYENV.BASE_URL=\"https://plot.ly\";Plotly.newPlot(\"f3182206-cb66-4dd6-93d2-d7b4cb95eab6\", [{\"type\": \"choropleth\", \"autocolorscale\": true, \"locations\": [\"CA\", \"TX\", \"FL\", \"AZ\", \"CO\", \"GA\", \"OH\", \"OK\", \"NC\", \"MO\", \"WA\", \"IL\", \"TN\", \"PA\", \"LA\", \"AL\", \"NM\", \"VA\", \"KY\", \"IN\", \"WI\", \"NY\", \"NV\", \"MI\", \"SC\", \"OR\", \"NJ\", \"MD\", \"AR\", \"MS\", \"MN\", \"WV\", \"KS\", \"UT\", \"ID\", \"MA\", \"AK\", \"IA\", \"MT\", \"NE\", \"ME\", \"CT\", \"SD\", \"HI\", \"DC\", \"WY\", \"DE\", \"NH\", \"ND\", \"VT\", \"RI\"], \"z\": [545, 306, 209, 170, 115, 111, 107, 104, 92, 90, 86, 79, 78, 76, 75, 73, 70, 67, 64, 62, 59, 59, 57, 56, 52, 51, 45, 44, 41, 40, 39, 37, 34, 33, 29, 25, 23, 19, 19, 15, 15, 12, 12, 12, 12, 11, 10, 8, 7, 6, 3], \"locationmode\": \"USA-states\", \"marker\": {\"line\": {\"color\": \"rgb(255,255,255)\", \"width\": 2}}, \"colorbar\": {\"title\": \"Count\"}}], {\"title\": \"Fatal Police Shootings in the United States since 2015<br>(Hover for Count)\", \"geo\": {\"scope\": \"usa\", \"projection\": {\"type\": \"albers usa\"}, \"showlakes\": true, \"lakecolor\": \"rgb(255, 255, 255)\"}}, {\"showLink\": true, \"linkText\": \"Export to plot.ly\"})});</script>"
      ],
      "text/vnd.plotly.v1+html": [
       "<div id=\"f3182206-cb66-4dd6-93d2-d7b4cb95eab6\" style=\"height: 525px; width: 100%;\" class=\"plotly-graph-div\"></div><script type=\"text/javascript\">require([\"plotly\"], function(Plotly) { window.PLOTLYENV=window.PLOTLYENV || {};window.PLOTLYENV.BASE_URL=\"https://plot.ly\";Plotly.newPlot(\"f3182206-cb66-4dd6-93d2-d7b4cb95eab6\", [{\"type\": \"choropleth\", \"autocolorscale\": true, \"locations\": [\"CA\", \"TX\", \"FL\", \"AZ\", \"CO\", \"GA\", \"OH\", \"OK\", \"NC\", \"MO\", \"WA\", \"IL\", \"TN\", \"PA\", \"LA\", \"AL\", \"NM\", \"VA\", \"KY\", \"IN\", \"WI\", \"NY\", \"NV\", \"MI\", \"SC\", \"OR\", \"NJ\", \"MD\", \"AR\", \"MS\", \"MN\", \"WV\", \"KS\", \"UT\", \"ID\", \"MA\", \"AK\", \"IA\", \"MT\", \"NE\", \"ME\", \"CT\", \"SD\", \"HI\", \"DC\", \"WY\", \"DE\", \"NH\", \"ND\", \"VT\", \"RI\"], \"z\": [545, 306, 209, 170, 115, 111, 107, 104, 92, 90, 86, 79, 78, 76, 75, 73, 70, 67, 64, 62, 59, 59, 57, 56, 52, 51, 45, 44, 41, 40, 39, 37, 34, 33, 29, 25, 23, 19, 19, 15, 15, 12, 12, 12, 12, 11, 10, 8, 7, 6, 3], \"locationmode\": \"USA-states\", \"marker\": {\"line\": {\"color\": \"rgb(255,255,255)\", \"width\": 2}}, \"colorbar\": {\"title\": \"Count\"}}], {\"title\": \"Fatal Police Shootings in the United States since 2015<br>(Hover for Count)\", \"geo\": {\"scope\": \"usa\", \"projection\": {\"type\": \"albers usa\"}, \"showlakes\": true, \"lakecolor\": \"rgb(255, 255, 255)\"}}, {\"showLink\": true, \"linkText\": \"Export to plot.ly\"})});</script>"
      ]
     },
     "metadata": {},
     "output_type": "display_data"
    }
   ],
   "source": [
    "data = [ dict(\n",
    "        type='choropleth',\n",
    "        #colorscale = \"Viridis\",\n",
    "        autocolorscale = True,\n",
    "        locations = df['state'].value_counts().index,\n",
    "        z = df['state'].value_counts().values,\n",
    "        locationmode = 'USA-states',\n",
    "        #text = df['text'],\n",
    "        marker = dict(\n",
    "            line = dict (\n",
    "                color = 'rgb(255,255,255)',\n",
    "                width = 2\n",
    "            ) ),\n",
    "        colorbar = dict(\n",
    "            title = \"Count\")\n",
    "        ) ]\n",
    "\n",
    "layout = dict(\n",
    "        title = 'Fatal Police Shootings in the United States since 2015<br>(Hover for Count)',\n",
    "        geo = dict(\n",
    "            scope='usa',\n",
    "            projection=dict( type='albers usa' ),\n",
    "            showlakes = True,\n",
    "            lakecolor = 'rgb(255, 255, 255)'),\n",
    "             )\n",
    "    \n",
    "fig = dict( data=data, layout=layout )\n",
    "iplot(fig)"
   ]
  },
  {
   "cell_type": "code",
   "execution_count": 147,
   "metadata": {},
   "outputs": [
    {
     "data": {
      "application/vnd.plotly.v1+json": {
       "data": [
        {
         "marker": {
          "color": "rgb(158,202,225)",
          "line": {
           "color": "rgb(8,48,107)",
           "width": 1.5
          }
         },
         "opacity": 0.6,
         "type": "bar",
         "x": [
          "California",
          "Texas",
          "Florida",
          "Arizona",
          "Colorado"
         ],
         "y": [
          545,
          306,
          209,
          170,
          115
         ]
        }
       ],
       "layout": {
        "title": "Top 5 States with Fatal Police Shootings"
       }
      },
      "text/html": [
       "<div id=\"c0335454-483c-48be-a941-73c0eaa4af47\" style=\"height: 525px; width: 100%;\" class=\"plotly-graph-div\"></div><script type=\"text/javascript\">require([\"plotly\"], function(Plotly) { window.PLOTLYENV=window.PLOTLYENV || {};window.PLOTLYENV.BASE_URL=\"https://plot.ly\";Plotly.newPlot(\"c0335454-483c-48be-a941-73c0eaa4af47\", [{\"type\": \"bar\", \"x\": [\"California\", \"Texas\", \"Florida\", \"Arizona\", \"Colorado\"], \"y\": [545, 306, 209, 170, 115], \"marker\": {\"color\": \"rgb(158,202,225)\", \"line\": {\"color\": \"rgb(8,48,107)\", \"width\": 1.5}}, \"opacity\": 0.6}], {\"title\": \"Top 5 States with Fatal Police Shootings\"}, {\"showLink\": true, \"linkText\": \"Export to plot.ly\"})});</script>"
      ],
      "text/vnd.plotly.v1+html": [
       "<div id=\"c0335454-483c-48be-a941-73c0eaa4af47\" style=\"height: 525px; width: 100%;\" class=\"plotly-graph-div\"></div><script type=\"text/javascript\">require([\"plotly\"], function(Plotly) { window.PLOTLYENV=window.PLOTLYENV || {};window.PLOTLYENV.BASE_URL=\"https://plot.ly\";Plotly.newPlot(\"c0335454-483c-48be-a941-73c0eaa4af47\", [{\"type\": \"bar\", \"x\": [\"California\", \"Texas\", \"Florida\", \"Arizona\", \"Colorado\"], \"y\": [545, 306, 209, 170, 115], \"marker\": {\"color\": \"rgb(158,202,225)\", \"line\": {\"color\": \"rgb(8,48,107)\", \"width\": 1.5}}, \"opacity\": 0.6}], {\"title\": \"Top 5 States with Fatal Police Shootings\"}, {\"showLink\": true, \"linkText\": \"Export to plot.ly\"})});</script>"
      ]
     },
     "metadata": {},
     "output_type": "display_data"
    }
   ],
   "source": [
    "trace = [go.Bar(x = df.state_name.value_counts().index[:5],\n",
    "              y = df.state_name.value_counts().values[:5],\n",
    "                  marker=dict(\n",
    "        color='rgb(158,202,225)',\n",
    "        line=dict(\n",
    "            color='rgb(8,48,107)',\n",
    "            width=1.5,\n",
    "        )\n",
    "    ),\n",
    "    opacity=0.6,\n",
    ")]\n",
    "\n",
    "layout = go.Layout(title = \"Top 5 States with Fatal Police Shootings\", )\n",
    "\n",
    "fig = dict(data=trace, layout=layout)\n",
    "iplot(fig)"
   ]
  },
  {
   "cell_type": "code",
   "execution_count": 161,
   "metadata": {
    "scrolled": false
   },
   "outputs": [
    {
     "data": {
      "text/plain": [
       "False    3101\n",
       "True      363\n",
       "Name: body_camera, dtype: int64"
      ]
     },
     "execution_count": 161,
     "metadata": {},
     "output_type": "execute_result"
    }
   ],
   "source": [
    "df.body_camera.dropna().value_counts()"
   ]
  },
  {
   "cell_type": "code",
   "execution_count": null,
   "metadata": {},
   "outputs": [],
   "source": []
  }
 ],
 "metadata": {
  "kernelspec": {
   "display_name": "Python 3",
   "language": "python",
   "name": "python3"
  },
  "language_info": {
   "codemirror_mode": {
    "name": "ipython",
    "version": 3
   },
   "file_extension": ".py",
   "mimetype": "text/x-python",
   "name": "python",
   "nbconvert_exporter": "python",
   "pygments_lexer": "ipython3",
   "version": "3.6.5"
  }
 },
 "nbformat": 4,
 "nbformat_minor": 2
}
