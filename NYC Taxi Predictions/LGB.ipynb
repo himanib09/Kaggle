{
 "cells": [
  {
   "cell_type": "code",
   "execution_count": 95,
   "metadata": {},
   "outputs": [],
   "source": [
    "import os, gc, warnings\n",
    "warnings.filterwarnings(\"ignore\")\n",
    "\n",
    "import numpy as np\n",
    "import pandas as pd\n",
    "from sklearn.model_selection import train_test_split\n",
    "\n",
    "import matplotlib.pyplot as plt\n",
    "import seaborn as sns\n",
    "\n",
    "import lightgbm as lgb\n",
    "import xgboost as xgb\n",
    "\n",
    "%matplotlib inline"
   ]
  },
  {
   "cell_type": "code",
   "execution_count": 57,
   "metadata": {},
   "outputs": [
    {
     "data": {
      "text/html": [
       "<div>\n",
       "<style scoped>\n",
       "    .dataframe tbody tr th:only-of-type {\n",
       "        vertical-align: middle;\n",
       "    }\n",
       "\n",
       "    .dataframe tbody tr th {\n",
       "        vertical-align: top;\n",
       "    }\n",
       "\n",
       "    .dataframe thead th {\n",
       "        text-align: right;\n",
       "    }\n",
       "</style>\n",
       "<table border=\"1\" class=\"dataframe\">\n",
       "  <thead>\n",
       "    <tr style=\"text-align: right;\">\n",
       "      <th></th>\n",
       "      <th>key</th>\n",
       "      <th>fare_amount</th>\n",
       "      <th>pickup_datetime</th>\n",
       "      <th>pickup_longitude</th>\n",
       "      <th>pickup_latitude</th>\n",
       "      <th>dropoff_longitude</th>\n",
       "      <th>dropoff_latitude</th>\n",
       "      <th>passenger_count</th>\n",
       "      <th>pickup</th>\n",
       "      <th>dropoff</th>\n",
       "      <th>distance</th>\n",
       "      <th>duration</th>\n",
       "    </tr>\n",
       "  </thead>\n",
       "  <tbody>\n",
       "    <tr>\n",
       "      <th>0</th>\n",
       "      <td>2012-08-11 10:06:00.00000063</td>\n",
       "      <td>6.1</td>\n",
       "      <td>2012-08-11 10:06:00</td>\n",
       "      <td>-73.960540</td>\n",
       "      <td>40.775700</td>\n",
       "      <td>-73.975090</td>\n",
       "      <td>40.782598</td>\n",
       "      <td>2</td>\n",
       "      <td>40.7757,-73.96054000000001</td>\n",
       "      <td>40.782598,-73.97509000000001</td>\n",
       "      <td>1.6</td>\n",
       "      <td>5.0</td>\n",
       "    </tr>\n",
       "    <tr>\n",
       "      <th>1</th>\n",
       "      <td>2009-12-25 14:29:00.00000057</td>\n",
       "      <td>14.5</td>\n",
       "      <td>2009-12-25 14:29:00</td>\n",
       "      <td>-73.999317</td>\n",
       "      <td>40.743992</td>\n",
       "      <td>-73.972230</td>\n",
       "      <td>40.796308</td>\n",
       "      <td>1</td>\n",
       "      <td>40.743992,-73.999317</td>\n",
       "      <td>40.796308,-73.97223000000001</td>\n",
       "      <td>7.6</td>\n",
       "      <td>19.0</td>\n",
       "    </tr>\n",
       "    <tr>\n",
       "      <th>2</th>\n",
       "      <td>2009-02-23 06:49:40.0000001</td>\n",
       "      <td>3.3</td>\n",
       "      <td>2009-02-23 06:49:40</td>\n",
       "      <td>-73.960274</td>\n",
       "      <td>40.773106</td>\n",
       "      <td>-73.965761</td>\n",
       "      <td>40.769447</td>\n",
       "      <td>1</td>\n",
       "      <td>40.773106,-73.960274</td>\n",
       "      <td>40.769447,-73.965761</td>\n",
       "      <td>0.8</td>\n",
       "      <td>4.0</td>\n",
       "    </tr>\n",
       "    <tr>\n",
       "      <th>3</th>\n",
       "      <td>2010-06-01 21:36:04.0000001</td>\n",
       "      <td>5.7</td>\n",
       "      <td>2010-06-01 21:36:04</td>\n",
       "      <td>-73.981212</td>\n",
       "      <td>40.758478</td>\n",
       "      <td>-73.969858</td>\n",
       "      <td>40.765873</td>\n",
       "      <td>2</td>\n",
       "      <td>40.758478000000004,-73.981212</td>\n",
       "      <td>40.765873,-73.969858</td>\n",
       "      <td>2.0</td>\n",
       "      <td>10.0</td>\n",
       "    </tr>\n",
       "    <tr>\n",
       "      <th>4</th>\n",
       "      <td>2012-04-10 12:11:00.0000003</td>\n",
       "      <td>7.3</td>\n",
       "      <td>2012-04-10 12:11:00</td>\n",
       "      <td>-73.968438</td>\n",
       "      <td>40.767667</td>\n",
       "      <td>-73.961140</td>\n",
       "      <td>40.798557</td>\n",
       "      <td>1</td>\n",
       "      <td>40.767666999999996,-73.968438</td>\n",
       "      <td>40.798557,-73.96114</td>\n",
       "      <td>4.4</td>\n",
       "      <td>13.0</td>\n",
       "    </tr>\n",
       "  </tbody>\n",
       "</table>\n",
       "</div>"
      ],
      "text/plain": [
       "                            key  fare_amount      pickup_datetime  \\\n",
       "0  2012-08-11 10:06:00.00000063          6.1  2012-08-11 10:06:00   \n",
       "1  2009-12-25 14:29:00.00000057         14.5  2009-12-25 14:29:00   \n",
       "2   2009-02-23 06:49:40.0000001          3.3  2009-02-23 06:49:40   \n",
       "3   2010-06-01 21:36:04.0000001          5.7  2010-06-01 21:36:04   \n",
       "4   2012-04-10 12:11:00.0000003          7.3  2012-04-10 12:11:00   \n",
       "\n",
       "   pickup_longitude  pickup_latitude  dropoff_longitude  dropoff_latitude  \\\n",
       "0        -73.960540        40.775700         -73.975090         40.782598   \n",
       "1        -73.999317        40.743992         -73.972230         40.796308   \n",
       "2        -73.960274        40.773106         -73.965761         40.769447   \n",
       "3        -73.981212        40.758478         -73.969858         40.765873   \n",
       "4        -73.968438        40.767667         -73.961140         40.798557   \n",
       "\n",
       "   passenger_count                         pickup  \\\n",
       "0                2     40.7757,-73.96054000000001   \n",
       "1                1           40.743992,-73.999317   \n",
       "2                1           40.773106,-73.960274   \n",
       "3                2  40.758478000000004,-73.981212   \n",
       "4                1  40.767666999999996,-73.968438   \n",
       "\n",
       "                        dropoff  distance  duration  \n",
       "0  40.782598,-73.97509000000001       1.6       5.0  \n",
       "1  40.796308,-73.97223000000001       7.6      19.0  \n",
       "2          40.769447,-73.965761       0.8       4.0  \n",
       "3          40.765873,-73.969858       2.0      10.0  \n",
       "4           40.798557,-73.96114       4.4      13.0  "
      ]
     },
     "execution_count": 57,
     "metadata": {},
     "output_type": "execute_result"
    }
   ],
   "source": [
    "train = pd.read_csv(\"data/new_train.csv\")\n",
    "test = pd.read_csv(\"data/new_test.csv\")\n",
    "train.head()"
   ]
  },
  {
   "cell_type": "code",
   "execution_count": 58,
   "metadata": {},
   "outputs": [],
   "source": [
    "train['pickup_datetime'] = pd.to_datetime(train['pickup_datetime'])\n",
    "test['pickup_datetime'] = pd.to_datetime(test['pickup_datetime'])"
   ]
  },
  {
   "cell_type": "code",
   "execution_count": 59,
   "metadata": {},
   "outputs": [],
   "source": [
    "train['hour'] = train.pickup_datetime.dt.hour\n",
    "train['year'] = train.pickup_datetime.dt.year\n",
    "train['month'] = train.pickup_datetime.dt.month\n",
    "test['hour'] = test.pickup_datetime.dt.hour\n",
    "test['year'] = test.pickup_datetime.dt.year\n",
    "test['month'] = test.pickup_datetime.dt.month"
   ]
  },
  {
   "cell_type": "code",
   "execution_count": 116,
   "metadata": {},
   "outputs": [
    {
     "name": "stdout",
     "output_type": "stream",
     "text": [
      "(14678, 6) (14678,) (9914, 6)\n"
     ]
    }
   ],
   "source": [
    "train.dropna(inplace=True)\n",
    "X = train[['distance','duration','passenger_count','hour','month','year']]\n",
    "y = train['fare_amount']\n",
    "X_test = test[['distance','duration','passenger_count','hour','month','year']]\n",
    "print (X.shape, y.shape, X_test.shape)"
   ]
  },
  {
   "cell_type": "code",
   "execution_count": 117,
   "metadata": {},
   "outputs": [
    {
     "data": {
      "text/plain": [
       "False"
      ]
     },
     "execution_count": 117,
     "metadata": {},
     "output_type": "execute_result"
    }
   ],
   "source": [
    "np.isnan(y).any()"
   ]
  },
  {
   "cell_type": "code",
   "execution_count": 118,
   "metadata": {
    "scrolled": true
   },
   "outputs": [],
   "source": [
    "X['dist_dur_avg'] = (X['distance']*X['duration'])/2\n",
    "X_test['dist_dur_avg'] = (X_test['distance']*X_test['duration'])/2"
   ]
  },
  {
   "cell_type": "code",
   "execution_count": 119,
   "metadata": {},
   "outputs": [],
   "source": [
    "X['speed'] = X['distance']/X['duration']\n",
    "X_test['speed'] = X_test['distance']/X_test['duration']"
   ]
  },
  {
   "cell_type": "code",
   "execution_count": 120,
   "metadata": {},
   "outputs": [],
   "source": [
    "X_train, dev_X, y, dev_y = train_test_split(X, y, test_size=0.2, random_state=42)"
   ]
  },
  {
   "cell_type": "code",
   "execution_count": 149,
   "metadata": {},
   "outputs": [],
   "source": [
    "def run_lgb(train_X, train_y, val_X, val_y, test_X):\n",
    "    params = {\n",
    "        \"objective\" : \"regression\",\n",
    "        \"metric\" : \"rmse\",\n",
    "        \"num_leaves\" : 40,\n",
    "        \"learning_rate\" : 0.003,\n",
    "        \"bagging_fraction\" : 0.8,\n",
    "        \"feature_fraction\" : 1,\n",
    "        \"bagging_frequency\" : 6,\n",
    "        \"bagging_seed\" : 42,\n",
    "        \"verbosity\" : -1,\n",
    "        \"seed\": 42,\n",
    "        \"max_bin\":500,\n",
    "    }\n",
    "    \n",
    "    lgtrain = lgb.Dataset(train_X, label=train_y)\n",
    "    lgval = lgb.Dataset(val_X, label=val_y)\n",
    "    evals_result = {}\n",
    "    model = lgb.train(params, lgtrain, 5000, \n",
    "                      valid_sets=[lgtrain, lgval], \n",
    "                      early_stopping_rounds=500, \n",
    "                      verbose_eval=100, \n",
    "                      evals_result=evals_result)\n",
    "    \n",
    "    pred_test_y = model.predict(test_X, num_iteration=model.best_iteration)\n",
    "    return pred_test_y, model, evals_result"
   ]
  },
  {
   "cell_type": "code",
   "execution_count": 150,
   "metadata": {},
   "outputs": [
    {
     "name": "stdout",
     "output_type": "stream",
     "text": [
      "Training until validation scores don't improve for 500 rounds.\n",
      "[100]\ttraining's rmse: 7.55615\tvalid_1's rmse: 7.38939\n",
      "[200]\ttraining's rmse: 6.27238\tvalid_1's rmse: 6.14959\n",
      "[300]\ttraining's rmse: 5.42174\tvalid_1's rmse: 5.33388\n",
      "[400]\ttraining's rmse: 4.8706\tvalid_1's rmse: 4.81903\n",
      "[500]\ttraining's rmse: 4.51695\tvalid_1's rmse: 4.50597\n",
      "[600]\ttraining's rmse: 4.29016\tvalid_1's rmse: 4.31622\n",
      "[700]\ttraining's rmse: 4.14449\tvalid_1's rmse: 4.19954\n",
      "[800]\ttraining's rmse: 4.04699\tvalid_1's rmse: 4.12852\n",
      "[900]\ttraining's rmse: 3.97808\tvalid_1's rmse: 4.08995\n",
      "[1000]\ttraining's rmse: 3.92575\tvalid_1's rmse: 4.07027\n",
      "[1100]\ttraining's rmse: 3.87954\tvalid_1's rmse: 4.05393\n",
      "[1200]\ttraining's rmse: 3.83369\tvalid_1's rmse: 4.04446\n",
      "[1300]\ttraining's rmse: 3.79518\tvalid_1's rmse: 4.03938\n",
      "[1400]\ttraining's rmse: 3.75875\tvalid_1's rmse: 4.04092\n",
      "[1500]\ttraining's rmse: 3.7286\tvalid_1's rmse: 4.03834\n",
      "[1600]\ttraining's rmse: 3.69727\tvalid_1's rmse: 4.04541\n",
      "[1700]\ttraining's rmse: 3.66683\tvalid_1's rmse: 4.04478\n",
      "[1800]\ttraining's rmse: 3.6423\tvalid_1's rmse: 4.04672\n",
      "[1900]\ttraining's rmse: 3.6235\tvalid_1's rmse: 4.04785\n",
      "[2000]\ttraining's rmse: 3.60149\tvalid_1's rmse: 4.04951\n",
      "Early stopping, best iteration is:\n",
      "[1505]\ttraining's rmse: 3.72721\tvalid_1's rmse: 4.03807\n"
     ]
    }
   ],
   "source": [
    "pred, model, lgb_res = run_lgb(X_train, y, dev_X, dev_y, X_test)"
   ]
  },
  {
   "cell_type": "code",
   "execution_count": 151,
   "metadata": {},
   "outputs": [],
   "source": [
    "sub = pd.read_csv(\"data/sample_submission.csv\")"
   ]
  },
  {
   "cell_type": "code",
   "execution_count": 152,
   "metadata": {},
   "outputs": [],
   "source": [
    "sub['fare_amount'] = pd.Series(pred)"
   ]
  },
  {
   "cell_type": "code",
   "execution_count": 153,
   "metadata": {},
   "outputs": [],
   "source": [
    "sub.to_csv(\"data/one_res.csv\", index=False)"
   ]
  },
  {
   "cell_type": "code",
   "execution_count": null,
   "metadata": {},
   "outputs": [],
   "source": []
  }
 ],
 "metadata": {
  "kernelspec": {
   "display_name": "Python 3",
   "language": "python",
   "name": "python3"
  },
  "language_info": {
   "codemirror_mode": {
    "name": "ipython",
    "version": 3
   },
   "file_extension": ".py",
   "mimetype": "text/x-python",
   "name": "python",
   "nbconvert_exporter": "python",
   "pygments_lexer": "ipython3",
   "version": "3.6.5"
  }
 },
 "nbformat": 4,
 "nbformat_minor": 2
}
